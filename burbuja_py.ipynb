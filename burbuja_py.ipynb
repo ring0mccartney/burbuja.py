{
  "nbformat": 4,
  "nbformat_minor": 0,
  "metadata": {
    "colab": {
      "provenance": [],
      "authorship_tag": "ABX9TyMtvhbiHKqs/H16RY7ydlXs",
      "include_colab_link": true
    },
    "kernelspec": {
      "name": "python3",
      "display_name": "Python 3"
    },
    "language_info": {
      "name": "python"
    }
  },
  "cells": [
    {
      "cell_type": "markdown",
      "metadata": {
        "id": "view-in-github",
        "colab_type": "text"
      },
      "source": [
        "<a href=\"https://colab.research.google.com/github/ring0mccartney/burbuja.py/blob/main/burbuja_py.ipynb\" target=\"_parent\"><img src=\"https://colab.research.google.com/assets/colab-badge.svg\" alt=\"Open In Colab\"/></a>"
      ]
    },
    {
      "cell_type": "code",
      "execution_count": 5,
      "metadata": {
        "colab": {
          "base_uri": "https://localhost:8080/"
        },
        "id": "i3FH5nlM-Qvu",
        "outputId": "5d20bea4-596b-455a-dd82-172f25e7e83a"
      },
      "outputs": [
        {
          "output_type": "stream",
          "name": "stdout",
          "text": [
            "Lista ordenada: [1, 2, 4, 5, 8]\n"
          ]
        }
      ],
      "source": [
        "def burbuja(lista):\n",
        "  n = len(lista)\n",
        "  cambio = True\n",
        "  while cambio:\n",
        "    cambio = False\n",
        "    for i in range(n - 1):\n",
        "      if lista[i] > lista[i + 1]:\n",
        "        lista[i], lista[i + 1] = lista[i + 1], lista[i]\n",
        "        cambio = True\n",
        "  return lista\n",
        "\n",
        "\n",
        "mi_lista = [5, 1, 4, 2, 8]\n",
        "lista_ordenada = burbuja(mi_lista)\n",
        "\n",
        "print(f\"Lista ordenada: {lista_ordenada}\")"
      ]
    },
    {
      "cell_type": "code",
      "source": [],
      "metadata": {
        "id": "tlgW1pd4-f5w"
      },
      "execution_count": null,
      "outputs": []
    }
  ]
}